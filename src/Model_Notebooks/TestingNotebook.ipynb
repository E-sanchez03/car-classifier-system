{
  "nbformat": 4,
  "nbformat_minor": 0,
  "metadata": {
    "colab": {
      "provenance": [],
      "gpuType": "T4"
    },
    "kernelspec": {
      "name": "python3",
      "display_name": "Python 3"
    },
    "language_info": {
      "name": "python"
    },
    "accelerator": "GPU"
  },
  "cells": [
    {
      "cell_type": "code",
      "execution_count": 18,
      "metadata": {
        "id": "38gZVrBr6uAh"
      },
      "outputs": [],
      "source": [
        "# --- TESTING ---\n",
        "\n",
        "import json\n",
        "import tensorflow as tf\n",
        "import numpy as np\n",
        "\n",
        "MODEL_PATH = \"clasificador_coches_v3.keras\"\n",
        "LABELS_MAP = \"marcas_coches.json\"\n",
        "\n",
        "with open(LABELS_MAP) as f:\n",
        "  labels_map = json.loads(f.read())\n",
        "  f.close()\n",
        "\n",
        "model = tf.keras.models.load_model(MODEL_PATH)"
      ]
    },
    {
      "cell_type": "code",
      "source": [
        "# Función auxiliar para preparar una imagen para predecir\n",
        "def prepare_image(image_path, img_size=(224, 224)):\n",
        "    \"\"\"\n",
        "    Lee una imagen desde una ruta, la decodifica automáticamente,\n",
        "    la redimensiona y la prepara para ser usada por el modelo.\n",
        "    \"\"\"\n",
        "    img = tf.io.read_file(image_path)\n",
        "    img = tf.image.decode_image(img, channels=3, expand_animations=False)\n",
        "\n",
        "    img = tf.image.resize(img, img_size)\n",
        "    img = tf.expand_dims(img, axis=0)\n",
        "    return img"
      ],
      "metadata": {
        "id": "yqUSTrue7ky1"
      },
      "execution_count": 6,
      "outputs": []
    },
    {
      "cell_type": "code",
      "source": [
        "def predict_image(img):\n",
        "  image = prepare_image(img)\n",
        "  predictions = model.predict(image)\n",
        "  label_ind = np.argmax(predictions[0])\n",
        "  return labels_map[str(label_ind)]  # Obtener el nombre a través del diccionario de mapeo"
      ],
      "metadata": {
        "id": "4kj389bs7rSC"
      },
      "execution_count": 22,
      "outputs": []
    },
    {
      "cell_type": "code",
      "source": [
        "test_img = \"test.jpeg\"\n",
        "\n",
        "print(f\"El fabricante es {predict_image(test_img)}\")"
      ],
      "metadata": {
        "colab": {
          "base_uri": "https://localhost:8080/"
        },
        "id": "PcWqMzQz772b",
        "outputId": "530f2349-b60e-4e7f-8853-fa035f619f75"
      },
      "execution_count": 23,
      "outputs": [
        {
          "output_type": "stream",
          "name": "stdout",
          "text": [
            "\u001b[1m1/1\u001b[0m \u001b[32m━━━━━━━━━━━━━━━━━━━━\u001b[0m\u001b[37m\u001b[0m \u001b[1m0s\u001b[0m 45ms/step\n",
            "El fabricante es Toyota\n"
          ]
        }
      ]
    }
  ]
}